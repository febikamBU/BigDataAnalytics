{
 "cells": [
  {
   "cell_type": "code",
   "execution_count": 3,
   "metadata": {},
   "outputs": [],
   "source": [
    "# lineitems = sqlContext.read.format('csv').options(header='true', inferSchema='true',  sep =\"|\").load(sys.arg[1])\n",
    "path=\"./tpch_tables_scale_0.1/\"\n",
    "# path is where you have the folder. It can be a distributed path like S3, gc or hdfs\n",
    "\n",
    "customer = sqlContext.read.format('csv').options(header='true', inferSchema='true',  sep =\"|\").load(path+\"customer.tbl\")\n",
    "orders = sqlContext.read.format('csv').options(header='true', inferSchema='true',  sep =\"|\").load(path+\"orders.tbl\")\n",
    "lineitems = sqlContext.read.format('csv').options(header='true', inferSchema='true',  sep =\"|\").load(path+\"lineitem.tbl\")\n",
    "part = sqlContext.read.format('csv').options(header='true', inferSchema='true',  sep =\"|\").load(path+\"part.tbl\")\n",
    "supplier = sqlContext.read.format('csv').options(header='true', inferSchema='true',  sep =\"|\").load(path+\"supplier.tbl\")\n",
    "partsupp = sqlContext.read.format('csv').options(header='true', inferSchema='true',  sep =\"|\").load(path+\"partsupp.tbl\")\n",
    "region = sqlContext.read.format('csv').options(header='true', inferSchema='true',  sep =\"|\").load(path+\"region.tbl\")\n",
    "nation = sqlContext.read.format('csv').options(header='true', inferSchema='true',  sep =\"|\").load(path+\"nation.tbl\")"
   ]
  },
  {
   "cell_type": "code",
   "execution_count": 2,
   "metadata": {},
   "outputs": [
    {
     "name": "stdout",
     "output_type": "stream",
     "text": [
      "+-------+------------------+--------------------+---------+---------------+-------+----------+--------------------+\n",
      "|CUSTKEY|              NAME|             ADDRESS|NATIONKEY|          PHONE|ACCBATL|MKTSEGMENT|             COMMENT|\n",
      "+-------+------------------+--------------------+---------+---------------+-------+----------+--------------------+\n",
      "|      1|Customer#000000001|   IVhzIApeRb ot,c,E|       15|25-989-741-2988| 711.56|  BUILDING|to the even, regu...|\n",
      "|      2|Customer#000000002|XSTf4,NCwDVaWNe6t...|       13|23-768-687-3665| 121.65|AUTOMOBILE|l accounts. blith...|\n",
      "|      3|Customer#000000003|        MG9kdTD2WBHm|        1|11-719-748-3364|7498.12|AUTOMOBILE| deposits eat sly...|\n",
      "|      4|Customer#000000004|         XxVSJsLAGtn|        4|14-128-190-5944|2866.83| MACHINERY| requests. final,...|\n",
      "|      5|Customer#000000005|KvpyuHCplrB84WgAi...|        3|13-750-942-6364| 794.47| HOUSEHOLD|n accounts will h...|\n",
      "|      6|Customer#000000006|sKZz0CsnMD7mp4Xd0...|       20|30-114-968-4951|7638.57|AUTOMOBILE|tions. even depos...|\n",
      "|      7|Customer#000000007|TcGe5gaZNgVePxU5k...|       18|28-190-982-9759|9561.95|AUTOMOBILE|ainst the ironic,...|\n",
      "|      8|Customer#000000008|I0B10bB0AymmC, 0P...|       17|27-147-574-9335|6819.74|  BUILDING|among the slyly r...|\n",
      "|      9|Customer#000000009|xKiAFTjUsCuxfeleN...|        8|18-338-906-3675|8324.07| FURNITURE|r theodolites acc...|\n",
      "|     10|Customer#000000010|6LrEaV6KR6PLVcgl2...|        5|15-741-346-9870|2753.54| HOUSEHOLD|es regular deposi...|\n",
      "|     11|Customer#000000011|PkWS 3HlXqwTuzrKg...|       23|33-464-151-3439| -272.6|  BUILDING|ckages. requests ...|\n",
      "|     12|Customer#000000012|       9PWKuhzT4Zr1Q|       13|23-791-276-1263|3396.49| HOUSEHOLD| to the carefully...|\n",
      "|     13|Customer#000000013|nsXQu0oVjD7PM659u...|        3|13-761-547-5974|3857.34|  BUILDING|ounts sleep caref...|\n",
      "|     14|Customer#000000014|     KXkletMlL2JQEA |        1|11-845-129-3851| 5266.3| FURNITURE|, ironic packages...|\n",
      "|     15|Customer#000000015|YtWggXoOLdwdo7b0y...|       23|33-687-542-7601|2788.52| HOUSEHOLD| platelets. regul...|\n",
      "|     16|Customer#000000016| cYiaeMLZSMAOQ2 d0W,|       10|20-781-609-3107|4681.03| FURNITURE|kly silent courts...|\n",
      "|     17|Customer#000000017|izrh 6jdqtp2eqdtb...|        2|12-970-682-3487|   6.34|AUTOMOBILE|packages wake! bl...|\n",
      "|     18|Customer#000000018|3txGO AiuFux3zT0Z...|        6|16-155-215-1315|5494.43|  BUILDING|s sleep. carefull...|\n",
      "|     19|Customer#000000019|uc,3bHIx84H,wdrmL...|       18|28-396-526-5053|8914.71| HOUSEHOLD| nag. furiously c...|\n",
      "|     20|Customer#000000020|       JrPk8Pqplj4Ne|       22|32-957-234-8742| 7603.4| FURNITURE|g alongside of th...|\n",
      "+-------+------------------+--------------------+---------+---------------+-------+----------+--------------------+\n",
      "only showing top 20 rows\n",
      "\n"
     ]
    }
   ],
   "source": [
    "customer.show()"
   ]
  },
  {
   "cell_type": "code",
   "execution_count": 4,
   "metadata": {},
   "outputs": [
    {
     "name": "stdout",
     "output_type": "stream",
     "text": [
      "+--------+-------+-----------+----------+-------------------+---------------+---------------+-------------+--------------------+\n",
      "|ORDERKEY|CUSTKEY|ORDERSTATUS|TOTALPRICE|          ORDERDATE| ORDER-PRIORITY|          CLERK|SHIP-PRIORITY|             COMMENT|\n",
      "+--------+-------+-----------+----------+-------------------+---------------+---------------+-------------+--------------------+\n",
      "|       1|   3691|          O| 194029.55|1996-01-02 00:00:00|          5-LOW|Clerk#000000951|            0|nstructions sleep...|\n",
      "|       2|   7801|          O|  60951.63|1996-12-01 00:00:00|       1-URGENT|Clerk#000000880|            0| foxes. pending a...|\n",
      "|       3|  12332|          F| 247296.05|1993-10-14 00:00:00|          5-LOW|Clerk#000000955|            0|sly final account...|\n",
      "|       4|  13678|          O|  53829.87|1995-10-11 00:00:00|          5-LOW|Clerk#000000124|            0|sits. slyly regul...|\n",
      "|       5|   4450|          F| 139660.54|1994-07-30 00:00:00|          5-LOW|Clerk#000000925|            0|quickly. bold dep...|\n",
      "|       6|   5563|          F|  65843.52|1992-02-21 00:00:00|4-NOT SPECIFIED|Clerk#000000058|            0|ggle. special, fi...|\n",
      "|       7|   3914|          O| 231037.28|1996-01-10 00:00:00|         2-HIGH|Clerk#000000470|            0|ly special requests |\n",
      "|      32|  13006|          O| 166802.63|1995-07-16 00:00:00|         2-HIGH|Clerk#000000616|            0|ise blithely bold...|\n",
      "|      33|   6697|          F| 118518.56|1993-10-27 00:00:00|       3-MEDIUM|Clerk#000000409|            0|uriously. furious...|\n",
      "|      34|   6101|          O|  75662.77|1998-07-21 00:00:00|       3-MEDIUM|Clerk#000000223|            0|ly final packages...|\n",
      "|      35|  12760|          O| 192885.43|1995-10-23 00:00:00|4-NOT SPECIFIED|Clerk#000000259|            0|zzle. carefully e...|\n",
      "|      36|  11527|          O|  72196.43|1995-11-03 00:00:00|       1-URGENT|Clerk#000000358|            0| quick packages a...|\n",
      "|      37|   8612|          F| 156440.15|1992-06-03 00:00:00|       3-MEDIUM|Clerk#000000456|            0|kly regular pinto...|\n",
      "|      38|  12484|          O|  64695.26|1996-08-21 00:00:00|4-NOT SPECIFIED|Clerk#000000604|            0|haggle blithely. ...|\n",
      "|      39|   8177|          O| 307811.89|1996-09-20 00:00:00|       3-MEDIUM|Clerk#000000659|            0|ole express, iron...|\n",
      "|      64|   3212|          F|   30616.9|1994-07-16 00:00:00|       3-MEDIUM|Clerk#000000661|            0|wake fluffily. so...|\n",
      "|      65|   1627|          P|  99763.79|1995-03-18 00:00:00|       1-URGENT|Clerk#000000632|            0|ular requests are...|\n",
      "|      66|  12920|          F| 100991.26|1994-01-20 00:00:00|          5-LOW|Clerk#000000743|            0|y pending request...|\n",
      "|      67|   5662|          O| 167270.36|1996-12-19 00:00:00|4-NOT SPECIFIED|Clerk#000000547|            0|symptotes haggle ...|\n",
      "|      68|   2855|          O| 305815.83|1998-04-18 00:00:00|       3-MEDIUM|Clerk#000000440|            0| pinto beans slee...|\n",
      "+--------+-------+-----------+----------+-------------------+---------------+---------------+-------------+--------------------+\n",
      "only showing top 20 rows\n",
      "\n"
     ]
    }
   ],
   "source": [
    "orders.show()"
   ]
  },
  {
   "cell_type": "code",
   "execution_count": 5,
   "metadata": {},
   "outputs": [
    {
     "name": "stdout",
     "output_type": "stream",
     "text": [
      "+--------+-------+-------+----------+--------+-------------+--------+----+----------+----------+-------------------+-------------------+-------------------+-----------------+--------+--------------------+\n",
      "|ORDERKEY|PARTKEY|SUPPKEY|LINENUMBER|QUANTITY|EXTENDEDPRICE|DISCOUNT| TAX|RETURNFLAG|LINESTATUS|           SHIPDATE|         COMMITDATE|        RECEIPTDATE|     SHIPINSTRUCT|SHIPMODE|             COMMENT|\n",
      "+--------+-------+-------+----------+--------+-------------+--------+----+----------+----------+-------------------+-------------------+-------------------+-----------------+--------+--------------------+\n",
      "|       1|  15519|    785|         1|      17|     24386.67|    0.04|0.02|         N|         O|1996-03-13 00:00:00|1996-02-12 00:00:00|1996-03-22 00:00:00|DELIVER IN PERSON|   TRUCK|egular courts abo...|\n",
      "|       1|   6731|    732|         2|      36|     58958.28|    0.09|0.06|         N|         O|1996-04-12 00:00:00|1996-02-28 00:00:00|1996-04-20 00:00:00| TAKE BACK RETURN|    MAIL|ly final dependen...|\n",
      "|       1|   6370|    371|         3|       8|     10210.96|     0.1|0.02|         N|         O|1996-01-29 00:00:00|1996-03-05 00:00:00|1996-01-31 00:00:00| TAKE BACK RETURN| REG AIR|riously. regular,...|\n",
      "|       1|    214|    465|         4|      28|     31197.88|    0.09|0.06|         N|         O|1996-04-21 00:00:00|1996-03-30 00:00:00|1996-05-16 00:00:00|             NONE|     AIR|lites. fluffily e...|\n",
      "|       1|   2403|    160|         5|      24|      31329.6|     0.1|0.04|         N|         O|1996-03-30 00:00:00|1996-03-14 00:00:00|1996-04-01 00:00:00|             NONE|     FOB| pending foxes. s...|\n",
      "|       1|   1564|     67|         6|      32|     46897.92|    0.07|0.02|         N|         O|1996-01-30 00:00:00|1996-02-07 00:00:00|1996-02-03 00:00:00|DELIVER IN PERSON|    MAIL|   arefully slyly ex|\n",
      "|       2|  10617|    138|         1|      38|     58049.18|     0.0|0.05|         N|         O|1997-01-28 00:00:00|1997-01-14 00:00:00|1997-02-02 00:00:00| TAKE BACK RETURN|    RAIL|ven requests. dep...|\n",
      "|       3|    430|    181|         1|      45|     59869.35|    0.06| 0.0|         R|         F|1994-02-02 00:00:00|1994-01-04 00:00:00|1994-02-23 00:00:00|             NONE|     AIR|ongside of the fu...|\n",
      "|       3|   1904|    658|         2|      49|      88489.1|     0.1| 0.0|         R|         F|1993-11-09 00:00:00|1993-12-20 00:00:00|1993-11-24 00:00:00| TAKE BACK RETURN|    RAIL| unusual accounts...|\n",
      "|       3|  12845|    370|         3|      27|     47461.68|    0.06|0.07|         A|         F|1994-01-16 00:00:00|1993-11-22 00:00:00|1994-01-23 00:00:00|DELIVER IN PERSON|    SHIP|    nal foxes wake. |\n",
      "|       3|   2938|    191|         4|       2|      3681.86|    0.01|0.06|         A|         F|1993-12-04 00:00:00|1994-01-07 00:00:00|1994-01-01 00:00:00|             NONE|   TRUCK|y. fluffily pendi...|\n",
      "|       3|  18310|    115|         5|      28|     34392.68|    0.04| 0.0|         R|         F|1993-12-14 00:00:00|1994-01-10 00:00:00|1994-01-01 00:00:00| TAKE BACK RETURN|     FOB|ages nag slyly pe...|\n",
      "|       3|   6215|    984|         6|      26|     29151.46|     0.1|0.02|         A|         F|1993-10-29 00:00:00|1993-12-18 00:00:00|1993-11-04 00:00:00| TAKE BACK RETURN|    RAIL|ges sleep after t...|\n",
      "|       4|   8804|    579|         1|      30|      51384.0|    0.03|0.08|         N|         O|1996-01-10 00:00:00|1995-12-14 00:00:00|1996-01-18 00:00:00|DELIVER IN PERSON| REG AIR|- quickly regular...|\n",
      "|       5|  10857|    858|         1|      15|     26517.75|    0.02|0.04|         R|         F|1994-10-31 00:00:00|1994-08-31 00:00:00|1994-11-20 00:00:00|             NONE|     AIR|  ts wake furiously |\n",
      "|       5|  12393|    394|         2|      26|     33940.14|    0.07|0.08|         R|         F|1994-10-16 00:00:00|1994-09-25 00:00:00|1994-10-19 00:00:00|             NONE|     FOB|sts use slyly qui...|\n",
      "|       5|   3754|      8|         3|      50|      82887.5|    0.08|0.03|         A|         F|1994-08-08 00:00:00|1994-10-13 00:00:00|1994-08-26 00:00:00|DELIVER IN PERSON|     AIR|eodolites. fluffi...|\n",
      "|       6|  13964|    228|         1|      37|     69484.52|    0.08|0.03|         A|         F|1992-04-27 00:00:00|1992-05-15 00:00:00|1992-05-02 00:00:00| TAKE BACK RETURN|   TRUCK|p furiously speci...|\n",
      "|       7|  18206|     11|         1|      12|      13490.4|    0.07|0.03|         N|         O|1996-05-07 00:00:00|1996-03-13 00:00:00|1996-06-03 00:00:00| TAKE BACK RETURN|     FOB|ss pinto beans wa...|\n",
      "|       7|  14525|    790|         2|       9|     12955.68|    0.08|0.08|         N|         O|1996-02-01 00:00:00|1996-03-02 00:00:00|1996-02-19 00:00:00| TAKE BACK RETURN|    SHIP|    es. instructions|\n",
      "+--------+-------+-------+----------+--------+-------------+--------+----+----------+----------+-------------------+-------------------+-------------------+-----------------+--------+--------------------+\n",
      "only showing top 20 rows\n",
      "\n"
     ]
    }
   ],
   "source": [
    "lineitems.show()"
   ]
  },
  {
   "cell_type": "code",
   "execution_count": 9,
   "metadata": {},
   "outputs": [],
   "source": [
    "import sys\n",
    "from operator import add\n",
    "\n",
    "import requests\n",
    "\n",
    "from pyspark.sql.types import *\n",
    "from pyspark.sql import functions as func\n",
    "from pyspark.sql.functions import lit"
   ]
  },
  {
   "cell_type": "code",
   "execution_count": 10,
   "metadata": {},
   "outputs": [
    {
     "name": "stdout",
     "output_type": "stream",
     "text": [
      "+-------+----------+\n",
      "|PARTKEY|sum(COUNT)|\n",
      "+-------+----------+\n",
      "|  14832|        40|\n",
      "|    471|        26|\n",
      "|   5518|        25|\n",
      "|   2866|        27|\n",
      "|   2122|        31|\n",
      "|   4900|        31|\n",
      "|   5803|        31|\n",
      "|  13832|        25|\n",
      "|  13289|        41|\n",
      "|   8592|        31|\n",
      "|   7754|        30|\n",
      "|   4101|        36|\n",
      "|  11458|        34|\n",
      "|   7833|        41|\n",
      "|   9465|        33|\n",
      "|  12940|        28|\n",
      "|   7554|        27|\n",
      "|  16339|        25|\n",
      "|  14450|        30|\n",
      "|  16503|        35|\n",
      "+-------+----------+\n",
      "only showing top 20 rows\n",
      "\n"
     ]
    }
   ],
   "source": [
    "# Question 1\n",
    "# Implement a pyspark code that can find out the top-10 sold products. \n",
    "lines = lineitems.select(\"ORDERKEY\", \"PARTKEY\").withColumn(\"COUNT\", lit(1)).groupBy(\"PARTKEY\").agg(func.sum(\"COUNT\"))\n",
    "\n",
    "lines.show()"
   ]
  },
  {
   "cell_type": "code",
   "execution_count": 11,
   "metadata": {},
   "outputs": [
    {
     "name": "stdout",
     "output_type": "stream",
     "text": [
      "+-------+----------+\n",
      "|PARTKEY|sum(COUNT)|\n",
      "+-------+----------+\n",
      "|  10620|        56|\n",
      "|   6140|        54|\n",
      "|  15584|        52|\n",
      "|   8051|        52|\n",
      "|  10715|        51|\n",
      "|  10597|        51|\n",
      "|   2292|        51|\n",
      "|  14422|        50|\n",
      "|  17670|        50|\n",
      "|  19444|        50|\n",
      "+-------+----------+\n",
      "\n"
     ]
    }
   ],
   "source": [
    "lines.orderBy(\"sum(COUNT)\", ascending=False).limit(10).show()"
   ]
  },
  {
   "cell_type": "code",
   "execution_count": 16,
   "metadata": {},
   "outputs": [
    {
     "name": "stdout",
     "output_type": "stream",
     "text": [
      "+-------+----------------+\n",
      "|CUSTKEY|sum(ORDER COUNT)|\n",
      "+-------+----------------+\n",
      "|   8761|              36|\n",
      "|  11998|              36|\n",
      "|   9454|              35|\n",
      "|    388|              35|\n",
      "|   3151|              35|\n",
      "|   4339|              35|\n",
      "|   8362|              35|\n",
      "|   4804|              34|\n",
      "|   3346|              34|\n",
      "|  10354|              34|\n",
      "+-------+----------------+\n",
      "\n"
     ]
    }
   ],
   "source": [
    "# ---------------------------------------------------------------------------\n",
    "# Question 2\n",
    "\n",
    "# Find the top-10 customers based on the number of products ordered.\n",
    "\n",
    "cus_order = orders.select(\"CUSTKEY\", \"ORDERKEY\").withColumn(\n",
    "    'ORDER COUNT', lit(1)).groupBy('CUSTKEY').agg(func.sum('ORDER COUNT'))\n",
    "\n",
    "result_2 = cus_order.orderBy('sum(ORDER COUNT)', ascending=False).limit(10).show()\n"
   ]
  },
  {
   "cell_type": "code",
   "execution_count": 23,
   "metadata": {},
   "outputs": [],
   "source": [
    "customer_orders = orders.select('ORDERKEY', 'CUSTKEY')"
   ]
  },
  {
   "cell_type": "code",
   "execution_count": 24,
   "metadata": {},
   "outputs": [],
   "source": [
    "order_items = lineitems.select('ORDERKEY', 'QUANTITY').groupBy('ORDERKEY').agg(func.sum('QUANTITY'))"
   ]
  },
  {
   "cell_type": "code",
   "execution_count": 28,
   "metadata": {},
   "outputs": [],
   "source": [
    "cus_order_items = customer_orders.join(order_items, customer_orders.ORDERKEY == order_items.ORDERKEY)\\\n",
    ".groupBy('CUSTKEY').agg(func.sum('sum(QUANTITY)'))"
   ]
  },
  {
   "cell_type": "code",
   "execution_count": 29,
   "metadata": {},
   "outputs": [
    {
     "name": "stdout",
     "output_type": "stream",
     "text": [
      "+-------+------------------+\n",
      "|CUSTKEY|sum(sum(QUANTITY))|\n",
      "+-------+------------------+\n",
      "|    463|              1794|\n",
      "|   2659|              2069|\n",
      "|  12799|              1943|\n",
      "|   5156|              1393|\n",
      "|  11141|               175|\n",
      "|  13840|              1934|\n",
      "|   9427|              3052|\n",
      "|   7982|               398|\n",
      "|  11317|              1804|\n",
      "|   9376|              1852|\n",
      "|  11458|              2766|\n",
      "|   3749|              1148|\n",
      "|   4900|              2344|\n",
      "|   6466|              1308|\n",
      "|   6658|              1727|\n",
      "|   1088|               633|\n",
      "|  12046|              2863|\n",
      "|   1238|              1373|\n",
      "|  10817|              1362|\n",
      "|   3175|              2231|\n",
      "+-------+------------------+\n",
      "only showing top 20 rows\n",
      "\n"
     ]
    }
   ],
   "source": [
    "cus_order_items.show()"
   ]
  },
  {
   "cell_type": "code",
   "execution_count": 27,
   "metadata": {},
   "outputs": [
    {
     "name": "stdout",
     "output_type": "stream",
     "text": [
      "+-------+------------------+\n",
      "|CUSTKEY|sum(sum(QUANTITY))|\n",
      "+-------+------------------+\n",
      "|   8362|              4082|\n",
      "|   9454|              3870|\n",
      "|    346|              3817|\n",
      "|   6958|              3760|\n",
      "|   1105|              3737|\n",
      "|  14707|              3710|\n",
      "|  11998|              3709|\n",
      "|  14398|              3670|\n",
      "|   8542|              3660|\n",
      "|   8761|              3658|\n",
      "+-------+------------------+\n",
      "\n"
     ]
    }
   ],
   "source": [
    "cus_order_items.orderBy('sum(sum(QUANTITY))', ascending=False).limit(10).show()"
   ]
  },
  {
   "cell_type": "code",
   "execution_count": 36,
   "metadata": {},
   "outputs": [],
   "source": [
    "# ---------------------------------------------------------------------------\n",
    "# Question 3\n",
    "# Find the top-10 customers that have ordered products from the same supplier. \n",
    "partsupp_keys=partsupp.select(\"PARTKEY\", \"SUPPKEY\")\n",
    "order_parts = lineitems.select(\"ORDERKEY\", \"PARTKEY\")\n",
    "customer_orders = orders.select(\"ORDERKEY\", \"CUSTKEY\")"
   ]
  },
  {
   "cell_type": "code",
   "execution_count": 37,
   "metadata": {},
   "outputs": [
    {
     "name": "stdout",
     "output_type": "stream",
     "text": [
      "+-------+-------+\n",
      "|CUSTKEY|PARTKEY|\n",
      "+-------+-------+\n",
      "|   5524|   5356|\n",
      "|   5524|  11184|\n",
      "|   5524|  16118|\n",
      "|  14689|  10690|\n",
      "|  14689|   3685|\n",
      "|  14689|  18035|\n",
      "|  14689|  12397|\n",
      "|  11131|  14993|\n",
      "|  11131|    462|\n",
      "|  11131|  10351|\n",
      "|  11131|  15300|\n",
      "|  11131|  16580|\n",
      "|  11131|  11463|\n",
      "|   4237|  16868|\n",
      "|   4237|  11944|\n",
      "|   8206|   4179|\n",
      "|   8206|   4226|\n",
      "|   8206|  13455|\n",
      "|   8206|  11810|\n",
      "|   8206|    617|\n",
      "+-------+-------+\n",
      "only showing top 20 rows\n",
      "\n"
     ]
    }
   ],
   "source": [
    "customer_parts = customer_orders.join(order_parts, customer_orders.ORDERKEY == order_parts.ORDERKEY , 'full' )\\\n",
    "    .drop('ORDERKEY')\n",
    "\n",
    "customer_parts.show()\n"
   ]
  },
  {
   "cell_type": "code",
   "execution_count": 38,
   "metadata": {},
   "outputs": [
    {
     "name": "stdout",
     "output_type": "stream",
     "text": [
      "+-------+-------+----------+\n",
      "|CUSTKEY|SUPPKEY|sum(COUNT)|\n",
      "+-------+-------+----------+\n",
      "|   4567|    844|         7|\n",
      "|   4792|    592|         6|\n",
      "|  11809|     17|         6|\n",
      "|  14767|      8|         6|\n",
      "|   2173|    572|         6|\n",
      "|   6139|    233|         6|\n",
      "|    874|    430|         6|\n",
      "|    154|    380|         5|\n",
      "|   6889|    729|         5|\n",
      "|   8794|    545|         5|\n",
      "+-------+-------+----------+\n",
      "\n"
     ]
    }
   ],
   "source": [
    "customer_supplier=customer_parts.join(partsupp_keys, customer_parts.PARTKEY == partsupp.PARTKEY , 'full'  )\\\n",
    "                    .drop('PARTKEY')\n",
    "\n",
    "customer_supplier.withColumn(\"COUNT\", lit(1))\\\n",
    "                .groupBy(\"CUSTKEY\", \"SUPPKEY\")\\\n",
    "                .agg(func.sum(\"COUNT\")).orderBy(\"sum(COUNT)\", ascending=False).limit(10).show()\n"
   ]
  },
  {
   "cell_type": "code",
   "execution_count": null,
   "metadata": {},
   "outputs": [],
   "source": [
    "# ---------------------------------------------------------------------------\n",
    "# Question 4 and 5\n",
    "# Find the customers who have not ordered products from their own country and have ordered only foreign products. \n",
    "\n",
    "\n"
   ]
  }
 ],
 "metadata": {
  "kernelspec": {
   "display_name": "Python 3",
   "language": "python",
   "name": "python3"
  },
  "language_info": {
   "codemirror_mode": {
    "name": "ipython",
    "version": 3
   },
   "file_extension": ".py",
   "mimetype": "text/x-python",
   "name": "python",
   "nbconvert_exporter": "python",
   "pygments_lexer": "ipython3",
   "version": "3.8.5"
  }
 },
 "nbformat": 4,
 "nbformat_minor": 2
}
